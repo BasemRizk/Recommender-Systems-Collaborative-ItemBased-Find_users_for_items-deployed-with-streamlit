{
 "cells": [
  {
   "cell_type": "code",
   "execution_count": 29,
   "id": "43aa66c2",
   "metadata": {},
   "outputs": [],
   "source": [
    "%matplotlib inline\n",
    "import pandas as pd\n",
    "import numpy as np\n",
    "import matplotlib.pyplot as plt\n",
    "import seaborn as sns\n",
    "from scipy import stats\n",
    "from ast import literal_eval\n",
    "from sklearn.feature_extraction.text import TfidfVectorizer, CountVectorizer\n",
    "from sklearn.metrics.pairwise import linear_kernel, cosine_similarity\n",
    "from nltk.stem.snowball import SnowballStemmer\n",
    "from nltk.stem.wordnet import WordNetLemmatizer\n",
    "from nltk.corpus import wordnet\n",
    "\n",
    "from surprise import SVD\n",
    "from surprise import Dataset\n",
    "from surprise.model_selection import cross_validate\n",
    "import warnings; warnings.simplefilter('ignore')"
   ]
  },
  {
   "cell_type": "code",
   "execution_count": 30,
   "id": "9197475c",
   "metadata": {},
   "outputs": [],
   "source": [
    "full_df=pd.read_csv('full_dataset.csv')"
   ]
  },
  {
   "cell_type": "code",
   "execution_count": 31,
   "id": "d6db6894",
   "metadata": {},
   "outputs": [],
   "source": [
    "full_df['CustomerID'] = full_df['CustomerID'].astype(int)\n",
    "full_df['InvoiceDate']=pd.to_datetime(full_df['InvoiceDate'])\n",
    "full_df['InvoiceDate'] = full_df['InvoiceDate'].dt.strftime('%d-%m-%Y')\n",
    "df=full_df.copy()"
   ]
  },
  {
   "cell_type": "code",
   "execution_count": 32,
   "id": "8a997c00",
   "metadata": {},
   "outputs": [],
   "source": [
    "df['Desc']=df['Description']\n",
    "df = df.groupby(['StockCode']).agg({'Quantity': 'sum', 'UnitPrice': 'first','Description':'first','Desc':'first','InvoiceNo':'count'})\n",
    "\n",
    "# reset the index to make StockCode and Description columns\n",
    "df = df.reset_index()\n",
    "df=df[df['Quantity']>0]"
   ]
  },
  {
   "cell_type": "code",
   "execution_count": 33,
   "id": "37a62286",
   "metadata": {},
   "outputs": [],
   "source": [
    "stemmer = SnowballStemmer('english')\n",
    "df['Description']=df['Description'].apply(lambda x: ' '.join([stemmer.stem(word) for word in x.split()]))"
   ]
  },
  {
   "cell_type": "code",
   "execution_count": 34,
   "id": "f8fb00ba-ca97-4aa6-948d-4ba061e78e06",
   "metadata": {},
   "outputs": [],
   "source": [
    "df.to_csv('rec.csv', index=False)\n"
   ]
  },
  {
   "cell_type": "code",
   "execution_count": 35,
   "id": "7a571da4",
   "metadata": {},
   "outputs": [
    {
     "data": {
      "text/plain": [
       "<surprise.prediction_algorithms.matrix_factorization.SVD at 0x104575a50>"
      ]
     },
     "execution_count": 35,
     "metadata": {},
     "output_type": "execute_result"
    }
   ],
   "source": [
    "ratings=pd.read_csv('product_rating.csv')\n",
    "from surprise import Dataset, NormalPredictor, Reader\n",
    "\n",
    "reader = Reader(rating_scale=(1, 10))\n",
    "\n",
    "data = Dataset.load_from_df(ratings[['CustomerID', 'StockCode', 'purchase_rate']], reader)\n",
    "svd=SVD()\n",
    "svd.n_epochs=10\n",
    "cross_validate( svd,data, measures=['RMSE'], cv=5)\n",
    "\n",
    "trainset = data.build_full_trainset()\n",
    "svd.fit(trainset)"
   ]
  },
  {
   "cell_type": "code",
   "execution_count": 36,
   "id": "5c9f3292",
   "metadata": {},
   "outputs": [],
   "source": [
    "tf = TfidfVectorizer(analyzer='word',ngram_range=(1, 2),min_df=0, stop_words='english')\n",
    "tfidf_matrix = tf.fit_transform(df['Description'])\n",
    "cosine_sim = linear_kernel(tfidf_matrix, tfidf_matrix)\n",
    "df = df.reset_index()\n",
    "indices = pd.Series(df.index, index=df['StockCode'])"
   ]
  },
  {
   "cell_type": "code",
   "execution_count": 37,
   "id": "c0c93f21",
   "metadata": {},
   "outputs": [],
   "source": [
    "def get_recommendations(title):\n",
    "    results=[]\n",
    "    idx = indices[title]\n",
    "    sim_scores = list(enumerate(cosine_sim[idx]))\n",
    "    sim_scores = sorted(sim_scores, key=lambda x: x[1], reverse=True)\n",
    "    sim_scores = sim_scores[1:10]\n",
    "    for score in(sim_scores):\n",
    "        if(score[1]>0):\n",
    "            results.append(score)\n",
    "    if(len(results))<1:\n",
    "        return 'No Such elements like this'\n",
    "    item_indices = [i[0] for i in results]\n",
    "       \n",
    "    return df.loc[item_indices,['StockCode','Desc','UnitPrice']]"
   ]
  },
  {
   "cell_type": "code",
   "execution_count": 38,
   "id": "e33aa88f",
   "metadata": {},
   "outputs": [],
   "source": [
    "x1=(get_recommendations('85211'))"
   ]
  },
  {
   "cell_type": "code",
   "execution_count": 54,
   "id": "e10a51ce",
   "metadata": {},
   "outputs": [
    {
     "name": "stdout",
     "output_type": "stream",
     "text": [
      "StockCode                             Desc  UnitPrice\n",
      "    16052         TEATIME PUSH DOWN RUBBER       0.42\n",
      "   47518F      ICON PLACEMAT POP ART ELVIS       0.42\n",
      "   46115B GREEN POP ART MAO CUSHION COVER        0.19\n",
      "    10120                     DOGGY RUBBER       0.21\n",
      "   16258A   SWIRLY CIRCULAR RUBBERS IN BAG       0.42\n",
      "   82011B     BATHROOM SCALES RUBBER DUCKS       3.75\n",
      "   47310M       SMALL POP BOX,FUNKY MONKEY       1.25\n",
      "    23528                SPACEBOY WALL ART       2.66\n",
      "    23543              KEEP CALM WALL ART        7.45\n"
     ]
    }
   ],
   "source": [
    "x1=(get_recommendations('16043'))\n",
    "print(x1.to_string(index=False))\n"
   ]
  },
  {
   "cell_type": "code",
   "execution_count": 44,
   "id": "d6712e46",
   "metadata": {},
   "outputs": [],
   "source": [
    "def get_scores(title):\n",
    "    results=[]\n",
    "    idx = indices[title]\n",
    "    sim_scores = list(enumerate(cosine_sim[idx]))\n",
    "    sim_scores = sorted(sim_scores, key=lambda x: x[1], reverse=True)\n",
    "    sim_scores = sim_scores[1:11]\n",
    "    for score in(sim_scores):\n",
    "        if(score[1]>0):\n",
    "            results.append(score)\n",
    "    if(len(results))<1:\n",
    "        return 'No Such elements like this'\n",
    "    item_indices = [i[0] for i in results]    \n",
    "    scores = [i[1] for i in results]    \n",
    "    res=df.loc[item_indices,['StockCode','Desc','UnitPrice']]\n",
    "    res['score']=scores\n",
    "    res=res[res['score']>0.2]\n",
    "\n",
    "    return res"
   ]
  },
  {
   "cell_type": "code",
   "execution_count": 84,
   "id": "b0861c04",
   "metadata": {},
   "outputs": [
    {
     "data": {
      "text/html": [
       "<div>\n",
       "<style scoped>\n",
       "    .dataframe tbody tr th:only-of-type {\n",
       "        vertical-align: middle;\n",
       "    }\n",
       "\n",
       "    .dataframe tbody tr th {\n",
       "        vertical-align: top;\n",
       "    }\n",
       "\n",
       "    .dataframe thead th {\n",
       "        text-align: right;\n",
       "    }\n",
       "</style>\n",
       "<table border=\"1\" class=\"dataframe\">\n",
       "  <thead>\n",
       "    <tr style=\"text-align: right;\">\n",
       "      <th></th>\n",
       "      <th>StockCode</th>\n",
       "      <th>Desc</th>\n",
       "      <th>UnitPrice</th>\n",
       "    </tr>\n",
       "  </thead>\n",
       "  <tbody>\n",
       "    <tr>\n",
       "      <th>1</th>\n",
       "      <td>21733</td>\n",
       "      <td>RED HANGING HEART T-LIGHT HOLDER</td>\n",
       "      <td>2.55</td>\n",
       "    </tr>\n",
       "    <tr>\n",
       "      <th>2</th>\n",
       "      <td>21814</td>\n",
       "      <td>HEART T-LIGHT HOLDER</td>\n",
       "      <td>1.45</td>\n",
       "    </tr>\n",
       "    <tr>\n",
       "      <th>3</th>\n",
       "      <td>85118</td>\n",
       "      <td>HEART T-LIGHT HOLDER</td>\n",
       "      <td>1.25</td>\n",
       "    </tr>\n",
       "    <tr>\n",
       "      <th>4</th>\n",
       "      <td>23087</td>\n",
       "      <td>ZINC  HEART T-LIGHT HOLDER</td>\n",
       "      <td>1.25</td>\n",
       "    </tr>\n",
       "    <tr>\n",
       "      <th>5</th>\n",
       "      <td>21313</td>\n",
       "      <td>GLASS HEART T-LIGHT HOLDER</td>\n",
       "      <td>0.85</td>\n",
       "    </tr>\n",
       "    <tr>\n",
       "      <th>6</th>\n",
       "      <td>84970S</td>\n",
       "      <td>HANGING HEART ZINC T-LIGHT HOLDER</td>\n",
       "      <td>0.64</td>\n",
       "    </tr>\n",
       "    <tr>\n",
       "      <th>7</th>\n",
       "      <td>84978</td>\n",
       "      <td>HANGING HEART JAR T-LIGHT HOLDER</td>\n",
       "      <td>1.25</td>\n",
       "    </tr>\n",
       "    <tr>\n",
       "      <th>8</th>\n",
       "      <td>71038</td>\n",
       "      <td>WHITE HANGING BEADS CANDLE HOLDER</td>\n",
       "      <td>5.45</td>\n",
       "    </tr>\n",
       "    <tr>\n",
       "      <th>9</th>\n",
       "      <td>23273</td>\n",
       "      <td>HEART T-LIGHT HOLDER WILLIE WINKIE</td>\n",
       "      <td>1.65</td>\n",
       "    </tr>\n",
       "    <tr>\n",
       "      <th>10</th>\n",
       "      <td>35968</td>\n",
       "      <td>FOLK ART METAL HEART T-LIGHT HOLDER</td>\n",
       "      <td>0.38</td>\n",
       "    </tr>\n",
       "  </tbody>\n",
       "</table>\n",
       "</div>"
      ],
      "text/plain": [
       "   StockCode                                 Desc  UnitPrice\n",
       "1      21733     RED HANGING HEART T-LIGHT HOLDER       2.55\n",
       "2      21814                HEART T-LIGHT HOLDER        1.45\n",
       "3      85118                 HEART T-LIGHT HOLDER       1.25\n",
       "4      23087           ZINC  HEART T-LIGHT HOLDER       1.25\n",
       "5      21313          GLASS HEART T-LIGHT HOLDER        0.85\n",
       "6     84970S    HANGING HEART ZINC T-LIGHT HOLDER       0.64\n",
       "7      84978     HANGING HEART JAR T-LIGHT HOLDER       1.25\n",
       "8      71038    WHITE HANGING BEADS CANDLE HOLDER       5.45\n",
       "9      23273   HEART T-LIGHT HOLDER WILLIE WINKIE       1.65\n",
       "10     35968  FOLK ART METAL HEART T-LIGHT HOLDER       0.38"
      ]
     },
     "execution_count": 84,
     "metadata": {},
     "output_type": "execute_result"
    }
   ],
   "source": [
    "x1=get_scores('85123A')\n",
    "x1=x1.reset_index()\n",
    "x1.index+=1\n",
    "x1[['StockCode','Desc','UnitPrice']]"
   ]
  },
  {
   "cell_type": "code",
   "execution_count": 52,
   "id": "097fa70a",
   "metadata": {},
   "outputs": [],
   "source": [
    "def fav_clients(title):\n",
    "    df=get_scores(title)\n",
    "    df_clients=pd.DataFrame()\n",
    "    for item in df['StockCode']:\n",
    "        y=full_df[full_df['StockCode']==item]\n",
    "        df_clients=pd.concat([df_clients, y], axis=0)\n",
    "    merged_df = pd.merge(df_clients, df, on='StockCode')\n",
    "    merged_df['rate']=merged_df['Quantity']*merged_df['score']\n",
    "    customer_totals = merged_df.groupby('CustomerID')['rate'].sum()\n",
    "    top_customers = customer_totals.sort_values(ascending=False).head(5)\n",
    "    return top_customers"
   ]
  },
  {
   "cell_type": "code",
   "execution_count": 68,
   "id": "28fa69ce",
   "metadata": {},
   "outputs": [],
   "source": [
    "s=fav_clients('16043')"
   ]
  },
  {
   "cell_type": "code",
   "execution_count": 69,
   "id": "4fb16bdf-c1f5-4d3d-9d30-b32d5f33501e",
   "metadata": {},
   "outputs": [
    {
     "data": {
      "text/plain": [
       "CustomerID\n",
       "13694    171.107709\n",
       "14298    120.125914\n",
       "18041     45.985701\n",
       "14911     32.935641\n",
       "15241     30.031478\n",
       "Name: rate, dtype: float64"
      ]
     },
     "execution_count": 69,
     "metadata": {},
     "output_type": "execute_result"
    }
   ],
   "source": [
    "s"
   ]
  },
  {
   "cell_type": "code",
   "execution_count": 82,
   "id": "c8858e37-617d-4194-976c-921bce3053bf",
   "metadata": {},
   "outputs": [
    {
     "data": {
      "text/html": [
       "<div>\n",
       "<style scoped>\n",
       "    .dataframe tbody tr th:only-of-type {\n",
       "        vertical-align: middle;\n",
       "    }\n",
       "\n",
       "    .dataframe tbody tr th {\n",
       "        vertical-align: top;\n",
       "    }\n",
       "\n",
       "    .dataframe thead th {\n",
       "        text-align: right;\n",
       "    }\n",
       "</style>\n",
       "<table border=\"1\" class=\"dataframe\">\n",
       "  <thead>\n",
       "    <tr style=\"text-align: right;\">\n",
       "      <th></th>\n",
       "      <th>CustomerID</th>\n",
       "    </tr>\n",
       "  </thead>\n",
       "  <tbody>\n",
       "    <tr>\n",
       "      <th>0</th>\n",
       "      <td>13694</td>\n",
       "    </tr>\n",
       "    <tr>\n",
       "      <th>1</th>\n",
       "      <td>14298</td>\n",
       "    </tr>\n",
       "    <tr>\n",
       "      <th>2</th>\n",
       "      <td>18041</td>\n",
       "    </tr>\n",
       "    <tr>\n",
       "      <th>3</th>\n",
       "      <td>14911</td>\n",
       "    </tr>\n",
       "    <tr>\n",
       "      <th>4</th>\n",
       "      <td>15241</td>\n",
       "    </tr>\n",
       "  </tbody>\n",
       "</table>\n",
       "</div>"
      ],
      "text/plain": [
       "   CustomerID\n",
       "0       13694\n",
       "1       14298\n",
       "2       18041\n",
       "3       14911\n",
       "4       15241"
      ]
     },
     "execution_count": 82,
     "metadata": {},
     "output_type": "execute_result"
    }
   ],
   "source": [
    "x = fav_clients('16043').reset_index()\n",
    "x.index += 1\n",
    "x=x[['CustomerID']]\n",
    "x"
   ]
  },
  {
   "cell_type": "code",
   "execution_count": 51,
   "id": "76352e4c",
   "metadata": {},
   "outputs": [],
   "source": [
    "def colab_filter(user,title):\n",
    "    res=get_scores(title)\n",
    "    ests=[]\n",
    "    for item in res['StockCode']:\n",
    "        est=svd.predict(user, item).est\n",
    "        ests.append(est)\n",
    "    res['rates']=ests\n",
    "    res = res.sort_values('rates', ascending=False)\n",
    "    res=res[['StockCode','Desc','UnitPrice']]\n",
    "    return res.head()"
   ]
  },
  {
   "cell_type": "code",
   "execution_count": null,
   "id": "40c0c3a0",
   "metadata": {},
   "outputs": [],
   "source": [
    "colab_filter(12971,'16043')"
   ]
  },
  {
   "cell_type": "code",
   "execution_count": null,
   "id": "f39d81f7",
   "metadata": {},
   "outputs": [],
   "source": []
  },
  {
   "cell_type": "code",
   "execution_count": null,
   "id": "84672653",
   "metadata": {},
   "outputs": [],
   "source": []
  },
  {
   "cell_type": "code",
   "execution_count": null,
   "id": "cb8414ba",
   "metadata": {},
   "outputs": [],
   "source": []
  },
  {
   "cell_type": "code",
   "execution_count": null,
   "id": "c9f6f60a",
   "metadata": {},
   "outputs": [],
   "source": []
  },
  {
   "cell_type": "code",
   "execution_count": null,
   "id": "24092b63",
   "metadata": {},
   "outputs": [],
   "source": []
  },
  {
   "cell_type": "code",
   "execution_count": null,
   "id": "5a3f5fc0",
   "metadata": {},
   "outputs": [],
   "source": []
  },
  {
   "cell_type": "code",
   "execution_count": null,
   "id": "ddc3c300",
   "metadata": {},
   "outputs": [],
   "source": []
  },
  {
   "cell_type": "code",
   "execution_count": null,
   "id": "0705df1c",
   "metadata": {},
   "outputs": [],
   "source": []
  },
  {
   "cell_type": "code",
   "execution_count": null,
   "id": "dcdb3deb",
   "metadata": {},
   "outputs": [],
   "source": []
  }
 ],
 "metadata": {
  "kernelspec": {
   "display_name": "Python 3 (ipykernel)",
   "language": "python",
   "name": "python3"
  },
  "language_info": {
   "codemirror_mode": {
    "name": "ipython",
    "version": 3
   },
   "file_extension": ".py",
   "mimetype": "text/x-python",
   "name": "python",
   "nbconvert_exporter": "python",
   "pygments_lexer": "ipython3",
   "version": "3.10.9"
  }
 },
 "nbformat": 4,
 "nbformat_minor": 5
}
